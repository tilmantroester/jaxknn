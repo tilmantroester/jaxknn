{
 "cells": [
  {
   "cell_type": "code",
   "execution_count": 6,
   "metadata": {},
   "outputs": [],
   "source": [
    "import jax\n",
    "import jax.numpy as jnp\n",
    "\n",
    "from jaxknn.scipy_kdtree import knn_scipy\n",
    "from jaxknn.cuda_kdtree import knn_cuda"
   ]
  },
  {
   "cell_type": "code",
   "execution_count": 2,
   "metadata": {},
   "outputs": [],
   "source": [
    "points = jax.random.uniform(key=jax.random.key(42), shape=(16**3, 3))\n",
    "box_size = (1.0, 1.0, 1.0)  # Toroidal topology\n",
    "k = 16"
   ]
  },
  {
   "cell_type": "code",
   "execution_count": 9,
   "metadata": {},
   "outputs": [
    {
     "name": "stdout",
     "output_type": "stream",
     "text": [
      "Results agree: True\n"
     ]
    }
   ],
   "source": [
    "scipy_idx = knn_scipy(\n",
    "    points=points, k=k, box_size=box_size\n",
    ")\n",
    "\n",
    "cuda_idx = knn_cuda(\n",
    "    points=points, k=k, box_size=box_size,\n",
    ")\n",
    "\n",
    "print(f\"Results agree: {jnp.all(scipy_idx == cuda_idx)}\")"
   ]
  },
  {
   "cell_type": "code",
   "execution_count": 8,
   "metadata": {},
   "outputs": [
    {
     "name": "stdout",
     "output_type": "stream",
     "text": [
      "Results agree: True\n"
     ]
    }
   ],
   "source": [
    "box_size = (1.0, 0, 0)  # Toroidal topology only in x\n",
    "k = 16\n",
    "queries = points[:10]\n",
    "\n",
    "scipy_idx = knn_scipy(\n",
    "    points=points, queries=queries, k=k, box_size=box_size\n",
    ")\n",
    "\n",
    "cuda_idx = knn_cuda(\n",
    "    points=points, queries=queries, k=k, box_size=box_size,\n",
    ")\n",
    "\n",
    "print(f\"Results agree: {jnp.all(scipy_idx == cuda_idx)}\")"
   ]
  }
 ],
 "metadata": {
  "kernelspec": {
   "display_name": "jax",
   "language": "python",
   "name": "python3"
  },
  "language_info": {
   "codemirror_mode": {
    "name": "ipython",
    "version": 3
   },
   "file_extension": ".py",
   "mimetype": "text/x-python",
   "name": "python",
   "nbconvert_exporter": "python",
   "pygments_lexer": "ipython3",
   "version": "3.12.8"
  }
 },
 "nbformat": 4,
 "nbformat_minor": 2
}
